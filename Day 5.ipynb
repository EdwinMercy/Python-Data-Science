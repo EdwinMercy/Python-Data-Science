{
 "cells": [
  {
   "cell_type": "code",
   "execution_count": 1,
   "metadata": {},
   "outputs": [
    {
     "name": "stdout",
     "output_type": "stream",
     "text": [
      "yes x is greater than y\n"
     ]
    }
   ],
   "source": [
    "x = 8 # If statement will execute if the program is true or condition is met\n",
    "y = 5\n",
    "if x>5: # The program will execute or run if the condition is true or met\n",
    "    print('yes x is greater than y')"
   ]
  },
  {
   "cell_type": "code",
   "execution_count": 2,
   "metadata": {},
   "outputs": [
    {
     "name": "stdout",
     "output_type": "stream",
     "text": [
      "yes x is greater than y\n"
     ]
    }
   ],
   "source": [
    "x = 8\n",
    "y = 5\n",
    "if x>5:\n",
    "     print('yes x is greater than y') # the else function adds a new condition to a statement\n",
    "else: \n",
    "     print('no is less than y')"
   ]
  },
  {
   "cell_type": "code",
   "execution_count": 3,
   "metadata": {},
   "outputs": [
    {
     "name": "stdout",
     "output_type": "stream",
     "text": [
      "Enter emailjoy john\n"
     ]
    }
   ],
   "source": [
    "mail =input('Enter email')"
   ]
  },
  {
   "cell_type": "code",
   "execution_count": 4,
   "metadata": {},
   "outputs": [
    {
     "name": "stdout",
     "output_type": "stream",
     "text": [
      "Enter emailjoy@gmail.com\n",
      "yes email is upper\n"
     ]
    }
   ],
   "source": [
    "email =input('Enter email')\n",
    "if email[1].upper():\n",
    "    print('yes email is upper')\n",
    "else:\n",
    "    print('no email is lower')\n"
   ]
  },
  {
   "cell_type": "code",
   "execution_count": 5,
   "metadata": {},
   "outputs": [
    {
     "name": "stdout",
     "output_type": "stream",
     "text": [
      "Enter your score25\n",
      "your grade is D\n"
     ]
    }
   ],
   "source": [
    "Dscore = int(input('Enter your score'))\n",
    "if Dscore == 25:\n",
    "    print('your grade is D')\n",
    "elif Dscore == 50:\n",
    "    print('your grade is C') # elif function allows multiple conditions to be added\n",
    "elif Dscore == 75:\n",
    "    print('your grade is B')\n",
    "elif Dscore == 100:\n",
    "    print('your grade is A')\n",
    "else: \n",
    "    print('invalid input')"
   ]
  },
  {
   "cell_type": "code",
   "execution_count": 3,
   "metadata": {},
   "outputs": [
    {
     "name": "stdout",
     "output_type": "stream",
     "text": [
      "WELCOME TO EARLYCODE PAYROLL\n",
      "Enter name:Joy Victor\n",
      "Enter basic salary250000.750\n",
      "Enter level3\n",
      "MR/MRS/MISJoy Victor Your old Payment is: \n",
      "    Basic salary:250000.75\n",
      "    HOUSING:37500.112499999996\n",
      "    LEAVE:62500.1875\n",
      "    MEDICAL:87500.2625\n",
      "    TRAVELING:75000.22499999999\n",
      "    PROVIDENT:37500.112499999996\n",
      "    NETPAY:700002.1\n",
      "    GROSSPAY:212500.6375\n",
      "---------------------------------------------------------------------------------------------------------------\n",
      "Your New Payment is:\n",
      "Basic salary:287500.8625\n",
      "HOUSING:43125.129375\n",
      "LEAVE:71875.215625\n",
      "TRANSPORT:57500.1725\n",
      "MEDICAL:86250.25875\n",
      "TRAVELING:215625.64687499998\n",
      "PROVIDENT:43125.129375\n",
      "NETPAY:761877.285625\n",
      "GROSSPAY:718752.15625\n",
      "\n",
      "\n"
     ]
    }
   ],
   "source": [
    "print('WELCOME TO EARLYCODE PAYROLL')\n",
    "employee_name = input('Enter name:' )\n",
    "basic_salary = float(input('Enter basic salary'))\n",
    "HA = (basic_salary * 0.15)\n",
    "LA = (basic_salary * 0.25)\n",
    "TA = (basic_salary * 0.30)\n",
    "MA = (basic_salary * 0.35)\n",
    "TRA = (basic_salary * 0.75)\n",
    "PF = (basic_salary * 0.15)\n",
    "netpay = (basic_salary + HA + LA + TA + MA + TRA)\n",
    "grosspay = (basic_salary - PF)\n",
    "level = int(input('Enter level'))\n",
    "if level == 1:\n",
    "    update_basic = (basic_salary *0.5) + basic_salary\n",
    "    UHA = update_basic * 0.15\n",
    "    ULA = update_basic * 0.25\n",
    "    UTA = update_basic * 0.20\n",
    "    UMA = update_basic * 0.30\n",
    "    UTRA = update_basic * 0.75\n",
    "    UPF = update_basic * 0.15\n",
    "    Unetpay = update_basic + UHA + ULA + UTA + UMA + UTRA\n",
    "    Ugrosspay = Unetpay - UPF\n",
    "    print(f'''MR/MRS/MIS{employee_name} Your old Payment is: \n",
    "    Basic salary:{basic_salary}\n",
    "    Housing:{HA}\n",
    "    LEAVE:{LA}\n",
    "    MEDICAL:{MA}\n",
    "    TRAVELING:{TA}\n",
    "    PROVIDENT:{PF}\n",
    "    NETPAY:{netpay}\n",
    "    GROSSPAY:{grosspay}\n",
    "---------------------------------------------------------------------------------------------------------------\n",
    "Your New Payment is:\n",
    "Basic salary:{update_basic}\n",
    "HOUSING:{UHA}\n",
    "LEAVE:{ULA}\n",
    "TRANSPORT:{UTA}\n",
    "MEDICAL:{UMA}\n",
    "TRAVELING:{UTRA}\n",
    "PROVIDENT:{UPF}\n",
    "NETPAY:{Unetpay}\n",
    "GROSSPAY:{Ugrosspay}\n",
    "\n",
    "''')\n",
    "    \n",
    "elif level == 2:\n",
    "    update_basic = (basic_salary *0.10) + basic_salary\n",
    "    UHA = update_basic * 0.15\n",
    "    ULA = update_basic * 0.25\n",
    "    UTA = update_basic * 0.20\n",
    "    UMA = update_basic * 0.30\n",
    "    UTRA = update_basic * 0.75\n",
    "    UPF = update_basic * 0.15\n",
    "    Unetpay = update_basic + UHA + ULA + UTA + UMA + UTRA\n",
    "    Ugrosspay = Unetpay - UPF\n",
    "    print(f'''MR/MRS/MIS{employee_name} Your old Payment is: \n",
    "    Basic salary:{basic_salary}\n",
    "    HOUSING :{HA}\n",
    "    LEAVE:{LA}\n",
    "    MEDICAL:{MA}\n",
    "    TRAVELING:{TA}\n",
    "    PROVIDENT:{PF}\n",
    "    NETPAY:{netpay}\n",
    "    GROSSPAY:{grosspay}\n",
    "---------------------------------------------------------------------------------------------------------------\n",
    "Your New Payment is:\n",
    "Basic salary:{update_basic}\n",
    "HOUSING:{UHA}\n",
    "LEAVE:{ULA}\n",
    "TRANSPORT:{UTA}\n",
    "MEDICAL:{UMA}\n",
    "TRAVELING:{UTRA}\n",
    "PROVIDENT:{UPF}\n",
    "NETPAY:{Unetpay}\n",
    "GROSSPAY:{Ugrosspay}\n",
    "\n",
    "''')\n",
    "    \n",
    "elif level == 3:\n",
    "    update_basic = (basic_salary *0.15) + basic_salary\n",
    "    UHA = update_basic * 0.15\n",
    "    ULA = update_basic * 0.25\n",
    "    UTA = update_basic * 0.20\n",
    "    UMA = update_basic * 0.30\n",
    "    UTRA = update_basic * 0.75\n",
    "    UPF = update_basic * 0.15\n",
    "    Unetpay = update_basic + UHA + ULA + UTA + UMA + UTRA\n",
    "    Ugrosspay = Unetpay - UPF\n",
    "    print(f'''MR/MRS/MIS{employee_name} Your old Payment is: \n",
    "    Basic salary:{basic_salary}\n",
    "    HOUSING:{HA}\n",
    "    LEAVE:{LA}\n",
    "    MEDICAL:{MA}\n",
    "    TRAVELING:{TA}\n",
    "    PROVIDENT:{PF}\n",
    "    NETPAY:{netpay}\n",
    "    GROSSPAY:{grosspay}\n",
    "---------------------------------------------------------------------------------------------------------------\n",
    "Your New Payment is:\n",
    "Basic salary:{update_basic}\n",
    "HOUSING:{UHA}\n",
    "LEAVE:{ULA}\n",
    "TRANSPORT:{UTA}\n",
    "MEDICAL:{UMA}\n",
    "TRAVELING:{UTRA}\n",
    "PROVIDENT:{UPF}\n",
    "NETPAY:{Unetpay}\n",
    "GROSSPAY:{Ugrosspay}\n",
    "\n",
    "''')\n",
    "    \n",
    "elif level == 4:\n",
    "    update_basic = (basic_salary *0.20) + basic_salary\n",
    "    UHA = update_basic * 0.15\n",
    "    ULA = update_basic * 0.25\n",
    "    UTA = update_basic * 0.20\n",
    "    UMA = update_basic * 0.30\n",
    "    UTRA = update_basic * 0.75\n",
    "    UPF = update_basic * 0.15\n",
    "    Unetpay = update_basic + UHA + ULA + UTA + UMA + UTRA\n",
    "    Ugrosspay = Unetpay - UPF\n",
    "    print(f'''MR/MRS/MIS{employee_name} Your old Payment is: \n",
    "    Basic salary:{basic_salary}\n",
    "    HOUSING:{HA}\n",
    "    LEAVE:{LA}\n",
    "    MEDICAL:{MA}\n",
    "    TRAVELING:{TA}\n",
    "    PROVIDENT:{PF}\n",
    "    NETPAY:{netpay}\n",
    "    GROSSPAY:{grosspay}\n",
    "---------------------------------------------------------------------------------------------------------------\n",
    "Your New Payment is:\n",
    "Basic salary:{update_basic}\n",
    "HOUSING:{UHA}\n",
    "LEAVE:{ULA}\n",
    "TRANSPORT:{UTA}\n",
    "MEDICAL:{UMA}\n",
    "TRAVELING:{UTRA}\n",
    "PROVIDENT:{UPF}\n",
    "NETPAY:{Unetpay}\n",
    "GROSSPAY:{Ugrosspay}\n",
    "\n",
    "''')"
   ]
  },
  {
   "cell_type": "code",
   "execution_count": null,
   "metadata": {},
   "outputs": [],
   "source": []
  }
 ],
 "metadata": {
  "kernelspec": {
   "display_name": "Python 3",
   "language": "python",
   "name": "python3"
  },
  "language_info": {
   "codemirror_mode": {
    "name": "ipython",
    "version": 3
   },
   "file_extension": ".py",
   "mimetype": "text/x-python",
   "name": "python",
   "nbconvert_exporter": "python",
   "pygments_lexer": "ipython3",
   "version": "3.8.3"
  }
 },
 "nbformat": 4,
 "nbformat_minor": 4
}
