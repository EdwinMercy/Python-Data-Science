{
 "cells": [
  {
   "cell_type": "code",
   "execution_count": 1,
   "metadata": {},
   "outputs": [],
   "source": [
    "import math"
   ]
  },
  {
   "cell_type": "code",
   "execution_count": 2,
   "metadata": {},
   "outputs": [
    {
     "data": {
      "text/plain": [
       "6"
      ]
     },
     "execution_count": 2,
     "metadata": {},
     "output_type": "execute_result"
    }
   ],
   "source": [
    "math.ceil(5.25) # the ceil function rounds up a decimal number"
   ]
  },
  {
   "cell_type": "code",
   "execution_count": 3,
   "metadata": {},
   "outputs": [
    {
     "data": {
      "text/plain": [
       "5"
      ]
     },
     "execution_count": 3,
     "metadata": {},
     "output_type": "execute_result"
    }
   ],
   "source": [
    "math.floor(5.25) # the floor function removes the numbers after the decimal"
   ]
  },
  {
   "cell_type": "code",
   "execution_count": 4,
   "metadata": {},
   "outputs": [
    {
     "data": {
      "text/plain": [
       "2.29128784747792"
      ]
     },
     "execution_count": 4,
     "metadata": {},
     "output_type": "execute_result"
    }
   ],
   "source": [
    "math.sqrt(5.25) # the sqrt function provides the squre root"
   ]
  },
  {
   "cell_type": "code",
   "execution_count": 5,
   "metadata": {},
   "outputs": [],
   "source": [
    "import statistics as stat"
   ]
  },
  {
   "cell_type": "code",
   "execution_count": 6,
   "metadata": {},
   "outputs": [],
   "source": [
    "list1 = [1,8,15,9,8,9,10,11,100,12,15,14,6]"
   ]
  },
  {
   "cell_type": "code",
   "execution_count": 7,
   "metadata": {},
   "outputs": [
    {
     "data": {
      "text/plain": [
       "16.76923076923077"
      ]
     },
     "execution_count": 7,
     "metadata": {},
     "output_type": "execute_result"
    }
   ],
   "source": [
    "stat.mean(list1)"
   ]
  },
  {
   "cell_type": "code",
   "execution_count": 8,
   "metadata": {},
   "outputs": [
    {
     "data": {
      "text/plain": [
       "8"
      ]
     },
     "execution_count": 8,
     "metadata": {},
     "output_type": "execute_result"
    }
   ],
   "source": [
    "stat.mode(list1)"
   ]
  },
  {
   "cell_type": "code",
   "execution_count": 9,
   "metadata": {},
   "outputs": [],
   "source": [
    "import random"
   ]
  },
  {
   "cell_type": "code",
   "execution_count": 10,
   "metadata": {},
   "outputs": [
    {
     "data": {
      "text/plain": [
       "4"
      ]
     },
     "execution_count": 10,
     "metadata": {},
     "output_type": "execute_result"
    }
   ],
   "source": [
    "random.randrange(1,101) #the random function generates a range of random numbers "
   ]
  },
  {
   "cell_type": "code",
   "execution_count": 11,
   "metadata": {},
   "outputs": [
    {
     "data": {
      "text/plain": [
       "20"
      ]
     },
     "execution_count": 11,
     "metadata": {},
     "output_type": "execute_result"
    }
   ],
   "source": [
    "random.randint(8,50) # used to generate random numer of integer"
   ]
  },
  {
   "cell_type": "code",
   "execution_count": 12,
   "metadata": {},
   "outputs": [
    {
     "data": {
      "text/plain": [
       "0.23538640201807992"
      ]
     },
     "execution_count": 12,
     "metadata": {},
     "output_type": "execute_result"
    }
   ],
   "source": [
    "random.random()"
   ]
  },
  {
   "cell_type": "code",
   "execution_count": 13,
   "metadata": {},
   "outputs": [
    {
     "data": {
      "text/plain": [
       "10"
      ]
     },
     "execution_count": 13,
     "metadata": {},
     "output_type": "execute_result"
    }
   ],
   "source": [
    "stat.median(list1)"
   ]
  },
  {
   "cell_type": "code",
   "execution_count": 14,
   "metadata": {},
   "outputs": [],
   "source": [
    "word = 'this is a python class' "
   ]
  },
  {
   "cell_type": "code",
   "execution_count": 15,
   "metadata": {},
   "outputs": [
    {
     "data": {
      "text/plain": [
       "'this is a python class'"
      ]
     },
     "execution_count": 15,
     "metadata": {},
     "output_type": "execute_result"
    }
   ],
   "source": [
    "word"
   ]
  },
  {
   "cell_type": "code",
   "execution_count": 16,
   "metadata": {},
   "outputs": [
    {
     "name": "stdout",
     "output_type": "stream",
     "text": [
      "t\n",
      "h\n",
      "i\n",
      "s\n",
      " \n",
      "i\n",
      "s\n",
      " \n",
      "a\n",
      " \n",
      "p\n",
      "y\n",
      "t\n",
      "h\n",
      "o\n",
      "n\n",
      " \n",
      "c\n",
      "l\n",
      "a\n",
      "s\n",
      "s\n"
     ]
    }
   ],
   "source": [
    "for i in word: #for loop function it calls fort all values in a varible or sequence\n",
    "    print(i)"
   ]
  },
  {
   "cell_type": "code",
   "execution_count": 17,
   "metadata": {},
   "outputs": [],
   "source": [
    "list1 = [1,8,15,9,8,9,10,11,100,12,15,14,6]"
   ]
  },
  {
   "cell_type": "code",
   "execution_count": 18,
   "metadata": {},
   "outputs": [
    {
     "name": "stdout",
     "output_type": "stream",
     "text": [
      "1\n",
      "8\n",
      "15\n",
      "9\n",
      "8\n",
      "9\n",
      "10\n",
      "11\n",
      "100\n",
      "12\n",
      "15\n",
      "14\n",
      "6\n"
     ]
    }
   ],
   "source": [
    "for num in list1:\n",
    "    print(num)"
   ]
  },
  {
   "cell_type": "code",
   "execution_count": 19,
   "metadata": {},
   "outputs": [],
   "source": [
    "#sum + = 1\n",
    "#sum - = 1\n",
    "\n",
    "#sum = sum + 1\n",
    "#sum = sum - 1"
   ]
  },
  {
   "cell_type": "code",
   "execution_count": 20,
   "metadata": {},
   "outputs": [
    {
     "name": "stdout",
     "output_type": "stream",
     "text": [
      "219\n"
     ]
    }
   ],
   "source": [
    "list1 = [1,8,15,9,8,9,10,11,100,12,15,14,6]\n",
    "sum = 1\n",
    "for num in list1:\n",
    "    sum = sum + num\n",
    "print(sum)"
   ]
  },
  {
   "cell_type": "code",
   "execution_count": 21,
   "metadata": {},
   "outputs": [
    {
     "name": "stdout",
     "output_type": "stream",
     "text": [
      "I specially invite Jane for my party holding June at my house\n",
      "I specially invite Joy for my party holding June at my house\n",
      "I specially invite Beauty for my party holding June at my house\n",
      "I specially invite Mike for my party holding June at my house\n",
      "I specially invite Alfred for my party holding June at my house\n",
      "I specially invite Sam for my party holding June at my house\n"
     ]
    }
   ],
   "source": [
    "list2 = ['Jane', 'Joy', 'Beauty', 'Mike', 'Alfred', 'Sam']\n",
    "invite = 'I specially invite {} for my party holding June at my house'\n",
    "for name in list2:\n",
    "    print(invite.format(name)) #sending an invitation using loop\n"
   ]
  },
  {
   "cell_type": "code",
   "execution_count": 22,
   "metadata": {},
   "outputs": [],
   "source": [
    "# while loop is an indefinate condition that keeps running untill a condition is met"
   ]
  },
  {
   "cell_type": "code",
   "execution_count": 23,
   "metadata": {},
   "outputs": [
    {
     "name": "stdout",
     "output_type": "stream",
     "text": [
      "0\n",
      "1\n",
      "2\n",
      "3\n",
      "4\n",
      "5\n",
      "6\n",
      "7\n",
      "8\n",
      "9\n",
      "10\n",
      "11\n",
      "12\n",
      "13\n",
      "14\n",
      "15\n",
      "16\n",
      "17\n",
      "18\n",
      "19\n",
      "20\n",
      "21\n",
      "The sum is 263\n"
     ]
    }
   ],
   "source": [
    "number = 21\n",
    "counter = 0\n",
    "sum = 10\n",
    "while counter <=number:\n",
    "    print(counter)\n",
    "    counter +=1\n",
    "    sum +=counter\n",
    "print('The sum is', sum)"
   ]
  },
  {
   "cell_type": "code",
   "execution_count": 24,
   "metadata": {},
   "outputs": [],
   "source": [
    "#counter +=1\n",
    "#sum += counter"
   ]
  },
  {
   "cell_type": "code",
   "execution_count": null,
   "metadata": {},
   "outputs": [
    {
     "name": "stdout",
     "output_type": "stream",
     "text": [
      "Hey can you guess the nuber between this range 1 to 20: 5\n",
      "5\n",
      "Guess is too low\n"
     ]
    }
   ],
   "source": [
    "import random\n",
    "number = random.randrange(1,20)\n",
    "guesses = int(input('Hey can you guess the nuber between this range 1 to 20: '))\n",
    "guess = 0\n",
    "while guesses != number:\n",
    "    print(guesses)\n",
    "    guess +=1\n",
    "    if guesses > number:\n",
    "        print('Guess is too high')\n",
    "    elif guesses < number:\n",
    "        print('Guess is too low')\n",
    "        guesses =int(input('Hey can you guess the nuber between this range 1 to 20: '))\n",
    "print('Guess is correct, you did a great job')\n"
   ]
  },
  {
   "cell_type": "code",
   "execution_count": null,
   "metadata": {},
   "outputs": [
    {
     "name": "stdout",
     "output_type": "stream",
     "text": [
      "Hey can you guess the nuber between this range 1 to 20: 6\n",
      "6\n",
      "Guess is too low\n",
      "Hey can you guess the nuber between this range 1 to 20: 10\n",
      "10\n",
      "Guess is too low\n"
     ]
    }
   ],
   "source": [
    "import random\n",
    "number = random.randrange(1,20)\n",
    "guesses = int(input('Hey can you guess the nuber between this range 1 to 20: '))\n",
    "guess = 0\n",
    "while guesses != number:\n",
    "    print(guesses)\n",
    "    guess +=1\n",
    "    if guesses > number:\n",
    "        print('Guess is too high')\n",
    "    elif guesses < number:\n",
    "        print('Guess is too low')\n",
    "        guesses =int(input('Hey can you guess the nuber between this range 1 to 20: '))\n",
    "print('Guess is correct, you did a great job')"
   ]
  },
  {
   "cell_type": "code",
   "execution_count": null,
   "metadata": {},
   "outputs": [],
   "source": []
  }
 ],
 "metadata": {
  "kernelspec": {
   "display_name": "Python 3",
   "language": "python",
   "name": "python3"
  },
  "language_info": {
   "codemirror_mode": {
    "name": "ipython",
    "version": 3
   },
   "file_extension": ".py",
   "mimetype": "text/x-python",
   "name": "python",
   "nbconvert_exporter": "python",
   "pygments_lexer": "ipython3",
   "version": "3.8.3"
  }
 },
 "nbformat": 4,
 "nbformat_minor": 4
}
